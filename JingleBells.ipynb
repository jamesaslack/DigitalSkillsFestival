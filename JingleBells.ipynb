{
 "cells": [
  {
   "cell_type": "markdown",
   "metadata": {},
   "source": [
    "# Help Rudolph Learn to Play Jingle Bells using Python!\n",
    "\n",
    "This year Rudolph wants to make a big splash at the Christmas Eve party before they all set off to deliver presents. Whilst Santa is checking the list Rudolph is going to show off his musical skills by playing Jingle bells.....on repeat......for the whole night.\n",
    "\n",
    "The only problem with this plan: **Rudolph can't play the piano!**\n",
    "\n",
    "Thankfully Rudoplh knows how to code (don't ask about the hoofs). Can you help Rudolph to use Python to create a Christmas tune?"
   ]
  },
  {
   "cell_type": "code",
   "execution_count": null,
   "metadata": {},
   "outputs": [],
   "source": [
    "from IPython.display import Image\n",
    "Image(\"reindeer.jpg\")"
   ]
  },
  {
   "cell_type": "markdown",
   "metadata": {},
   "source": [
    "First, let's see what packages we might need to use:\n",
    "\n",
    "[**Pyknon**](https://github.com/kroger/pyknon) is a simple music library for Python hackers. With Pyknon you can generate Midi files quickly and reason about musical properties.\n",
    "\n",
    "[**Music21**](http://web.mit.edu/music21/) will then let us listen to the Midi files that we generate."
   ]
  },
  {
   "cell_type": "markdown",
   "metadata": {},
   "source": [
    "Let's try seeing if we can use Pyknon"
   ]
  },
  {
   "cell_type": "code",
   "execution_count": null,
   "metadata": {},
   "outputs": [],
   "source": [
    "import pyknon"
   ]
  },
  {
   "cell_type": "markdown",
   "metadata": {},
   "source": [
    "**Oh no! What happened?**\n",
    "\n",
    "It looks like Rudoplh doesn't have Pyknon, she hasn't even used it before.\n",
    "\n",
    "I guess we'll have to install it for her, let's run the cell below to install the packages we need."
   ]
  },
  {
   "cell_type": "code",
   "execution_count": null,
   "metadata": {},
   "outputs": [],
   "source": [
    "!pip install pyknon\n",
    "!pip install music21"
   ]
  },
  {
   "cell_type": "markdown",
   "metadata": {},
   "source": [
    "## Success!##\n",
    "\n",
    "Now we have installed our muscial packages let's take it for a spin.\n",
    "\n",
    "Let's import the functions we want to use to create our notes. We need to import these now so that the code knows what we are pointing too when we **call** the function."
   ]
  },
  {
   "cell_type": "code",
   "execution_count": null,
   "metadata": {},
   "outputs": [],
   "source": [
    "from pyknon.music import Note\n",
    "from pyknon.music import NoteSeq\n",
    "from pyknon.music import Rest\n",
    "from pyknon.genmidi import Midi"
   ]
  },
  {
   "cell_type": "markdown",
   "metadata": {},
   "source": [
    "Right, we're on our way. But we've run into another problem, Rudoplh can't read music! **Of course she can't she's a Reindeer!**\n",
    "\n",
    "We'll have to use Pyknon to set our notes. In Pyknon we can set all of our notes to have a value that corresponds to their real life chord. See the image below for the numbers you'll need."
   ]
  },
  {
   "cell_type": "code",
   "execution_count": null,
   "metadata": {},
   "outputs": [],
   "source": [
    "from IPython.display import Image\n",
    "Image(\"notes.png\")"
   ]
  },
  {
   "cell_type": "markdown",
   "metadata": {},
   "source": [
    "## Creating our notes\n",
    "\n",
    "Let's try to make a C note for our start. When we create our note we need to set the number from Pyknon, then the pitch and then the duration. Fix the code below so that we can play a C note."
   ]
  },
  {
   "cell_type": "code",
   "execution_count": null,
   "metadata": {
    "scrolled": false
   },
   "outputs": [],
   "source": [
    "c = Note(what goes here?, 5, dur=0.25)"
   ]
  },
  {
   "cell_type": "markdown",
   "metadata": {},
   "source": [
    "## Playing our notes\n",
    "\n",
    "Now we think we've managed to set a note correctly. If only there was some way for us to play this note.\n",
    "\n",
    "**THERE IS!**\n",
    "\n",
    "Use the code below to create a Midi files with a few 'c' notes, put as many as you like. "
   ]
  },
  {
   "cell_type": "code",
   "execution_count": null,
   "metadata": {},
   "outputs": [],
   "source": [
    "notes1 = NoteSeq([c, c])\n",
    "midi = Midi(1, tempo=90)\n",
    "midi.seq_notes(notes1, track=0)\n",
    "midi.write(\"notes.midi\")"
   ]
  },
  {
   "cell_type": "markdown",
   "metadata": {},
   "source": [
    "## Create a Midi player\n",
    "\n",
    "Run the cell below to create a function that will allow us to play our Midi file in the notebook. \n",
    "\n",
    "This functions means that we can then use playMidi('filename') to stream any Midi file in our notebook."
   ]
  },
  {
   "cell_type": "code",
   "execution_count": null,
   "metadata": {},
   "outputs": [],
   "source": [
    "from music21 import midi\n",
    "def playMidi(filename):\n",
    "    mf = midi.MidiFile()\n",
    "    mf.open(filename)\n",
    "    mf.read()\n",
    "    mf.close()\n",
    "    s = midi.translate.midiFileToStream(mf)\n",
    "    s.show('midi')"
   ]
  },
  {
   "cell_type": "markdown",
   "metadata": {},
   "source": [
    "## Hit Play!\n",
    "\n",
    "Now that we've made our function let's use it."
   ]
  },
  {
   "cell_type": "code",
   "execution_count": null,
   "metadata": {
    "scrolled": true
   },
   "outputs": [],
   "source": [
    "playMidi(\"notes.midi\")"
   ]
  },
  {
   "cell_type": "markdown",
   "metadata": {},
   "source": [
    "## Brilliant \n",
    "\n",
    "Now that we know we can play a few notes let's up our game and see if we can play a whole line of Jingle Bells.\n",
    "\n",
    "To do that we'll need to know all the notes in Jingle Bells, if only there were a way to magically make some sheet music appear......."
   ]
  },
  {
   "cell_type": "code",
   "execution_count": null,
   "metadata": {},
   "outputs": [],
   "source": [
    "from IPython.display import Image\n",
    "Image(\"jinglebells.png\")"
   ]
  },
  {
   "cell_type": "markdown",
   "metadata": {},
   "source": [
    "### Seems that we have Christmas magic on our side!\n",
    "\n",
    "Looks like we are going to need a lot of extra notes. Use the guide above to set all of the notes to the right value. I've added them below with just the values missing to help you out, replace the # with the correct value. We've also added a Rest, which is a pause between notes that we may want to use."
   ]
  },
  {
   "cell_type": "code",
   "execution_count": null,
   "metadata": {},
   "outputs": [],
   "source": [
    "e= Note(#, 5, dur=0.25)\n",
    "a= Note(#, 5, dur=0.25)\n",
    "g= Note(#, 5, dur=0.25)\n",
    "d = Note(#, 5, dur=0.25)\n",
    "c= Note(#, 5, dur=0.25)\n",
    "f= Note(#, 5, dur=0.25)\n",
    "end = Note(#, 5, dur=0.5)\n",
    "_= Rest(0.25)"
   ]
  },
  {
   "cell_type": "markdown",
   "metadata": {},
   "source": [
    "I seems there are 4 lines that we can easily break this up into. Lets have a go at writing all of the notes in the first line.\n"
   ]
  },
  {
   "cell_type": "markdown",
   "metadata": {},
   "source": [
    "## Let's make line 1"
   ]
  },
  {
   "cell_type": "code",
   "execution_count": null,
   "metadata": {},
   "outputs": [],
   "source": [
    "Line1 = NoteSeq([]) "
   ]
  },
  {
   "cell_type": "code",
   "execution_count": null,
   "metadata": {},
   "outputs": [],
   "source": [
    "midi = Midi(1, tempo=90)\n",
    "midi.seq_notes(Line1, track=0)\n",
    "midi.write(\"first.midi\")"
   ]
  },
  {
   "cell_type": "code",
   "execution_count": null,
   "metadata": {},
   "outputs": [],
   "source": [
    "from music21 import midi\n",
    "def playMidi(filename):\n",
    "    mf = midi.MidiFile()\n",
    "    mf.open(filename)\n",
    "    mf.read()\n",
    "    mf.close()\n",
    "    s = midi.translate.midiFileToStream(mf)\n",
    "    s.show('midi')"
   ]
  },
  {
   "cell_type": "markdown",
   "metadata": {},
   "source": [
    "Now let's play the first line to see how well we are doing so far"
   ]
  },
  {
   "cell_type": "code",
   "execution_count": null,
   "metadata": {},
   "outputs": [],
   "source": [
    "playMidi(\"first.midi\")"
   ]
  },
  {
   "cell_type": "markdown",
   "metadata": {},
   "source": [
    "## Brilliant! Now let's try making the second line in the same way"
   ]
  },
  {
   "cell_type": "code",
   "execution_count": null,
   "metadata": {},
   "outputs": [],
   "source": [
    "Line2 = NoteSeq([])"
   ]
  },
  {
   "cell_type": "code",
   "execution_count": null,
   "metadata": {},
   "outputs": [],
   "source": [
    "midi = Midi(2, tempo=90)\n",
    "midi.seq_notes(Line2, track=0)\n",
    "midi.write(\"second.midi\")"
   ]
  },
  {
   "cell_type": "code",
   "execution_count": null,
   "metadata": {},
   "outputs": [],
   "source": [
    "from music21 import midi\n",
    "def playMidi(filename):\n",
    "    mf = midi.MidiFile()\n",
    "    mf.open(filename)\n",
    "    mf.read()\n",
    "    mf.close()\n",
    "    s = midi.translate.midiFileToStream(mf)\n",
    "    s.show('midi')"
   ]
  },
  {
   "cell_type": "code",
   "execution_count": null,
   "metadata": {},
   "outputs": [],
   "source": [
    "playMidi('second.midi')"
   ]
  },
  {
   "cell_type": "markdown",
   "metadata": {},
   "source": [
    "## Now we're rocking!\n",
    "\n",
    "Now we should go write Line 3 but it seems to be exactly the same as Line 1. If only there was a way we could have saved Line1 and used it again..........."
   ]
  },
  {
   "cell_type": "code",
   "execution_count": null,
   "metadata": {},
   "outputs": [],
   "source": [
    "combined = NoteSeq(Line1) + NoteSeq(Line2) + NoteSeq(Line1)"
   ]
  },
  {
   "cell_type": "code",
   "execution_count": null,
   "metadata": {},
   "outputs": [],
   "source": [
    "midi = Midi(1, tempo=90)\n",
    "midi.seq_notes(combined, track=0)\n",
    "midi.write(\"third.midi\")"
   ]
  },
  {
   "cell_type": "code",
   "execution_count": null,
   "metadata": {},
   "outputs": [],
   "source": [
    "from music21 import midi\n",
    "def playMidi(filename):\n",
    "    mf = midi.MidiFile()\n",
    "    mf.open(filename)\n",
    "    mf.read()\n",
    "    mf.close()\n",
    "    s = midi.translate.midiFileToStream(mf)\n",
    "    s.show('midi')"
   ]
  },
  {
   "cell_type": "code",
   "execution_count": null,
   "metadata": {},
   "outputs": [],
   "source": [
    "playMidi('third.midi')"
   ]
  },
  {
   "cell_type": "markdown",
   "metadata": {},
   "source": [
    "## Nearly There!!\n",
    "\n",
    "Just one more line to write and then add before Rudolph can show of his coding skills. See if you can write this one youself based on what we did above, I've given you a starter as a hint.\n"
   ]
  },
  {
   "cell_type": "code",
   "execution_count": null,
   "metadata": {},
   "outputs": [],
   "source": [
    "Line4 = NoteSeq"
   ]
  },
  {
   "cell_type": "code",
   "execution_count": null,
   "metadata": {},
   "outputs": [],
   "source": [
    "Midi = "
   ]
  },
  {
   "cell_type": "code",
   "execution_count": null,
   "metadata": {},
   "outputs": [],
   "source": [
    "from music21 import midi\n",
    "def "
   ]
  },
  {
   "cell_type": "code",
   "execution_count": null,
   "metadata": {},
   "outputs": [],
   "source": [
    "playMidi('')"
   ]
  },
  {
   "cell_type": "markdown",
   "metadata": {},
   "source": [
    "## Now that you've managed to finish the 4th line see if you can combine them as before to make the whole tune##"
   ]
  },
  {
   "cell_type": "code",
   "execution_count": null,
   "metadata": {},
   "outputs": [],
   "source": [
    "fullsong = NoteSeq"
   ]
  },
  {
   "cell_type": "code",
   "execution_count": null,
   "metadata": {},
   "outputs": [],
   "source": [
    "Midi = "
   ]
  },
  {
   "cell_type": "code",
   "execution_count": null,
   "metadata": {},
   "outputs": [],
   "source": [
    "def playMidi(filename):"
   ]
  },
  {
   "cell_type": "code",
   "execution_count": null,
   "metadata": {},
   "outputs": [],
   "source": [
    "playMidi('')"
   ]
  },
  {
   "cell_type": "markdown",
   "metadata": {},
   "source": [
    "## Well Done!\n",
    "\n",
    "Rudolph can finally show off his mastery of Python and Christmas tunes"
   ]
  },
  {
   "cell_type": "code",
   "execution_count": null,
   "metadata": {},
   "outputs": [],
   "source": [
    "from IPython.display import HTML\n",
    "HTML('<img src=\"https://media1.tenor.com/images/2087784170b31b0b8baa9e77de2a6ef4/tenor.gif\">')"
   ]
  },
  {
   "cell_type": "markdown",
   "metadata": {},
   "source": [
    "## Extra Activites\n",
    "\n",
    "If you've managed to rush ahead and finish early then don't worry, we've got you covered with some extra Christmas activities\n",
    "\n",
    "#### To Start off let's see if we can make a Christmas tree####\n",
    "\n",
    "We're going to be using some random packages so let's import them first."
   ]
  },
  {
   "cell_type": "code",
   "execution_count": null,
   "metadata": {},
   "outputs": [],
   "source": [
    "from random import choice\n",
    "from random import random"
   ]
  },
  {
   "cell_type": "markdown",
   "metadata": {},
   "source": [
    "Let's start by saying how large we want this tree to be, this will need to be an odd number"
   ]
  },
  {
   "cell_type": "code",
   "execution_count": null,
   "metadata": {},
   "outputs": [],
   "source": [
    "def main():\n",
    "    SIZE = 41\n",
    "    print(makeTree(SIZE))"
   ]
  },
  {
   "cell_type": "markdown",
   "metadata": {},
   "source": [
    "Now set the probability of leaves showing on the tree. A Higher number (upto 1) will mean more leaves"
   ]
  },
  {
   "cell_type": "code",
   "execution_count": null,
   "metadata": {},
   "outputs": [],
   "source": [
    "prob_gr = 0.4"
   ]
  },
  {
   "cell_type": "markdown",
   "metadata": {},
   "source": [
    "Now set what colours you want you decorations to show in."
   ]
  },
  {
   "cell_type": "code",
   "execution_count": null,
   "metadata": {},
   "outputs": [],
   "source": [
    "colours = [31, 33, 34, 35, 36, 37]"
   ]
  },
  {
   "cell_type": "markdown",
   "metadata": {},
   "source": [
    "Finally let's choose what characters you want to be used as decorations for your tree."
   ]
  },
  {
   "cell_type": "code",
   "execution_count": null,
   "metadata": {},
   "outputs": [],
   "source": [
    "decs = ['@', '&', '*', chr(169), chr(174)]"
   ]
  },
  {
   "cell_type": "markdown",
   "metadata": {},
   "source": [
    "Now its time to make our tree, free feel to change the above cells multiple times. Just make sure to run everything in order to see the change."
   ]
  },
  {
   "cell_type": "code",
   "execution_count": null,
   "metadata": {},
   "outputs": [],
   "source": [
    "def makeTree(size):\n",
    "\n",
    " \n",
    "    baubles = \"\\033[5;{0}m{1}\\033[0m\"\n",
    "    leaf = \"\\033[32m#\\033[0m\"\n",
    " \n",
    "    width = 1\n",
    "    tree = \"\\n{}*\\n\".format(' ' * (size))\n",
    "    \n",
    "    for pad in range(size - 1, -1, -1):\n",
    "        width += 2\n",
    "         \n",
    "        temp = \"\"\n",
    "        for j in range(width):\n",
    "            if random() < prob_gr:\n",
    "                temp += leaf\n",
    "            else:\n",
    "                temp += baubles.format(choice(colours), choice(decs))\n",
    "\n",
    "\n",
    "        tree += \"{0}{1}\\n\".format(' ' * pad, temp)\n",
    " \n",
    "    return tree + \"{0}{1}\\n\".format(' ' * (size - 1), \"000\") * 2\n",
    " \n",
    "if __name__ == \"__main__\":\n",
    "    main()"
   ]
  },
  {
   "cell_type": "markdown",
   "metadata": {},
   "source": [
    "## Still looking for more?##\n",
    "\n",
    "Good for you on making it this far, now let's try some image manipulation. You've found a great openly licensed Christmassy image, but how do you make it more Christmassy? \n",
    " \n",
    "For this we are going to use [**Pillow**](https://pillow.readthedocs.io/en/latest/) to overlay a Christmas message on your new image.\n"
   ]
  },
  {
   "cell_type": "code",
   "execution_count": null,
   "metadata": {
    "scrolled": true
   },
   "outputs": [],
   "source": [
    "!pip install pillow"
   ]
  },
  {
   "cell_type": "markdown",
   "metadata": {},
   "source": [
    "First let's grab the image that you sourced, just find the image URL and enter it between the \"\" on the download_image line\n",
    "\n",
    "This will pull the image into our repo for later use. Don't worry if you can't we can always use our back Rudolph image."
   ]
  },
  {
   "cell_type": "code",
   "execution_count": null,
   "metadata": {},
   "outputs": [],
   "source": [
    "import random\n",
    "import urllib.request\n",
    "\n",
    "def download_image(url):\n",
    "    name = random.randrange(1,100)\n",
    "    fullname = str(name)+\".jpg\"\n",
    "    urllib.request.urlretrieve(url,fullname)     \n",
    "download_image(\"\")\n",
    "\n"
   ]
  },
  {
   "cell_type": "markdown",
   "metadata": {},
   "source": [
    "Now that you have your image we need to load a few functions that we will be using. These will help us to set the Font, load our image from our local directory and then Draw on it."
   ]
  },
  {
   "cell_type": "code",
   "execution_count": null,
   "metadata": {},
   "outputs": [],
   "source": [
    "from PIL import Image, ImageDraw, ImageFont"
   ]
  },
  {
   "cell_type": "markdown",
   "metadata": {},
   "source": [
    "Set your font below, only Verdana for now but feel free to make the fontsize ungodly large."
   ]
  },
  {
   "cell_type": "code",
   "execution_count": null,
   "metadata": {},
   "outputs": [],
   "source": [
    "fontsize = 100\n",
    "fnt = ImageFont.truetype(\"Verdana.ttf\", fontsize)"
   ]
  },
  {
   "cell_type": "markdown",
   "metadata": {},
   "source": [
    "Now we need to open our image to draw on, look in your repo for the filename that you downloaded. If you don't have one you can use 'reindeer.jpg' which is already in your local repo. You can also change the message or the colour."
   ]
  },
  {
   "cell_type": "code",
   "execution_count": null,
   "metadata": {},
   "outputs": [],
   "source": [
    "blank_image = Image.open('filename')\n",
    "img_draw = ImageDraw.Draw(blank_image)\n",
    "img_draw.text((100, -10), 'Merry Christmas', fill='red', font=fnt)\n",
    "blank_image.save('drawn_image.png')"
   ]
  },
  {
   "cell_type": "markdown",
   "metadata": {},
   "source": [
    "Now we've made you image even more festive. If you want to try more features, such as cropping, rotation or colour transformation that I've even attached some extra reading.\n",
    "\n",
    "[**More Image Manipulation in Python**](https://auth0.com/blog/image-processing-in-python-with-pillow/)"
   ]
  },
  {
   "cell_type": "code",
   "execution_count": null,
   "metadata": {
    "scrolled": true
   },
   "outputs": [],
   "source": [
    "from IPython.display import Image\n",
    "Image(\"drawn_image.png\")"
   ]
  },
  {
   "cell_type": "code",
   "execution_count": null,
   "metadata": {},
   "outputs": [],
   "source": []
  }
 ],
 "metadata": {
  "kernelspec": {
   "display_name": "Python 3",
   "language": "python",
   "name": "python3"
  },
  "language_info": {
   "codemirror_mode": {
    "name": "ipython",
    "version": 3
   },
   "file_extension": ".py",
   "mimetype": "text/x-python",
   "name": "python",
   "nbconvert_exporter": "python",
   "pygments_lexer": "ipython3",
   "version": "3.7.3"
  }
 },
 "nbformat": 4,
 "nbformat_minor": 2
}
